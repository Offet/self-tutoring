{
 "cells": [
  {
   "cell_type": "code",
   "execution_count": 1,
   "id": "452d8e98-2e1e-4704-86d4-b8287bc6e4ed",
   "metadata": {},
   "outputs": [],
   "source": [
    "# import necessary modules\n",
    "\n",
    "import numpy as np\n",
    "import pandas as pd\n",
    "\n",
    "from sklearn.preprocessing import StandardScaler\n",
    "from sklearn.model_selection import train_test_split\n",
    "\n",
    "from sklearn.metrics import accuracy_score, mean_squared_error, confusion_matrix, classification_report\n",
    "from sklearn.linear_model import LogisticRegression"
   ]
  },
  {
   "cell_type": "code",
   "execution_count": null,
   "id": "927196b8-0b47-4992-82a5-7b2825bac23c",
   "metadata": {},
   "outputs": [],
   "source": [
    "# get the dataset\n",
    "df = pd.read_excel(\"a_Dataset_CreditScoring.xlsx\")\n",
    "\n",
    "df.head(10)"
   ]
  },
  {
   "cell_type": "code",
   "execution_count": null,
   "id": "85935b7e-62c3-4eb2-bb05-2b0ec8686dc6",
   "metadata": {},
   "outputs": [],
   "source": [
    "df.columns"
   ]
  },
  {
   "cell_type": "code",
   "execution_count": null,
   "id": "987c127b-3bd4-4375-ac38-7e01ff9abe2b",
   "metadata": {},
   "outputs": [],
   "source": [
    "print(f\"There are {df.shape[0]} rows and {df.shape[1]} columns in the dataset\\n\\n\")\n",
    "\n",
    "print(f\"Columns in the dataset:\")\n",
    "for column in df.columns:\n",
    "    print(column)\n",
    "    \n",
    "print(\"\\n\\n\")\n",
    "\n",
    "print(\"Brief information about the dataset:\\n\", \n",
    "      df.info())"
   ]
  },
  {
   "cell_type": "code",
   "execution_count": null,
   "id": "70746ba4-d77e-46ae-8219-a9e48c992ee5",
   "metadata": {},
   "outputs": [],
   "source": [
    "df.describe()"
   ]
  },
  {
   "cell_type": "code",
   "execution_count": null,
   "id": "a4abed64-7459-41f4-875e-ff668162b86d",
   "metadata": {},
   "outputs": [],
   "source": [
    "print(f\"Missing values in the dataset:\\n\\n{df.isnull().sum()}\")\n"
   ]
  },
  {
   "cell_type": "code",
   "execution_count": 7,
   "id": "f791611f-2005-43cd-89b8-273131ac5a76",
   "metadata": {},
   "outputs": [],
   "source": [
    "# fill the missing datasets with the mean values\n",
    "df = df.fillna(df.mean())"
   ]
  },
  {
   "cell_type": "code",
   "execution_count": null,
   "id": "7aa23bb9-725d-407b-a0b7-63c73b4d1e62",
   "metadata": {},
   "outputs": [],
   "source": [
    "# confirm if changes worked\n",
    "df.isnull().sum()"
   ]
  },
  {
   "cell_type": "code",
   "execution_count": null,
   "id": "57e8471d-d9e4-4090-bfc3-8b94d687beb6",
   "metadata": {},
   "outputs": [],
   "source": [
    "# counting good and bad loans\n",
    "df[\"TARGET\"].value_counts()"
   ]
  },
  {
   "cell_type": "code",
   "execution_count": null,
   "id": "93f1c5de-398c-4dc1-8f8c-68c3807f34f6",
   "metadata": {},
   "outputs": [],
   "source": [
    "df.groupby(\"TARGET\").mean()"
   ]
  },
  {
   "cell_type": "code",
   "execution_count": 13,
   "id": "a0b4d997-ea37-4f25-9b80-14f39790ceda",
   "metadata": {},
   "outputs": [],
   "source": [
    "# grouping df into features and targets\n",
    "X = df.drop(columns=\"TARGET\")\n",
    "y = df[\"TARGET\"]"
   ]
  },
  {
   "cell_type": "code",
   "execution_count": 1,
   "id": "692e2ba3-10ff-4bf2-868b-ad466fbf8aa7",
   "metadata": {},
   "outputs": [],
   "source": [
    "import matplotlib.pyplot as plt\n",
    "\n",
    "# plt.scatter(X[:, 0], y)\n",
    "# plt.xlabel(\"Feature 1\")\n",
    "# plt.ylabel(\"Target Variable\")\n",
    "# plt.title(\"Scatter Plot of Feature 1 vs. Target\")\n",
    "# plt.show()"
   ]
  },
  {
   "cell_type": "code",
   "execution_count": null,
   "id": "4f8b04dd-07a0-4448-92a9-4b22ee9131d1",
   "metadata": {},
   "outputs": [],
   "source": [
    "import matplotlib.pyplot as plt\n",
    "\n",
    "# Assuming 'feature_1' is the name of your chosen feature\n",
    "plt.scatter(X['BanruptcyInd'], y)\n",
    "plt.xlabel(\"Banruptcy Index\")\n",
    "plt.ylabel(\"Target Variable\")\n",
    "plt.title(\"Scatter Plot of Banruptcy Index vs. Target\")\n",
    "plt.show()"
   ]
  },
  {
   "cell_type": "code",
   "execution_count": null,
   "id": "b65f3a73-a885-43b3-8d64-68dee86c63e8",
   "metadata": {},
   "outputs": [],
   "source": [
    "# split dataset into training and test sets"
   ]
  }
 ],
 "metadata": {
  "kernelspec": {
   "display_name": "Python 3 (ipykernel)",
   "language": "python",
   "name": "python3"
  },
  "language_info": {
   "codemirror_mode": {
    "name": "ipython",
    "version": 3
   },
   "file_extension": ".py",
   "mimetype": "text/x-python",
   "name": "python",
   "nbconvert_exporter": "python",
   "pygments_lexer": "ipython3",
   "version": "3.10.14"
  }
 },
 "nbformat": 4,
 "nbformat_minor": 5
}
